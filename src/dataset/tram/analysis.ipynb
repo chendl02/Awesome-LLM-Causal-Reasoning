{
 "cells": [
  {
   "cell_type": "code",
   "execution_count": 12,
   "metadata": {},
   "outputs": [],
   "source": [
    "import pandas as pd\n",
    "df = pd.read_csv('causality_mcq.csv', encoding='ISO-8859-1')\n",
    "df_list = []\n",
    "df_list.append(df)\n",
    "import pandas as pd\n",
    "df = pd.read_csv('causality_mirrored_mcq.csv', encoding='ISO-8859-1')\n",
    "df_list.append(df)\n",
    "df_merge  = pd.concat(df_list)\n",
    "#cat "
   ]
  },
  {
   "cell_type": "code",
   "execution_count": 25,
   "metadata": {},
   "outputs": [],
   "source": [
    "import pandas as pd\n",
    "df = pd.read_json(\"tram_merge.json\", orient=\"records\", lines=True)\n",
    "df[\"prompt\"] = df.apply(lambda row: f'''You are a highly intelligent question-answering bot with profound knowledge of causal inference.\n",
    "{row['Premise']}\n",
    "{row['Question']}\n",
    "A. {row['Option A']}\n",
    "B. {row['Option B']}\n",
    "Start your answer with A or B Please do not use any other format\"\n",
    "''', axis=1)\n",
    "df[\"label\"]=df[\"Answer\"]"
   ]
  },
  {
   "cell_type": "code",
   "execution_count": 23,
   "metadata": {},
   "outputs": [
    {
     "data": {
      "text/plain": [
       "'You are a highly intelligent question-answering bot with profound knowledge of causal inference.\\nThe government recently passed a nationwide mandate for all households to limit screen time to one hour per day.\\nWhat\\'s the more plausible CAUSE?\\nA. They were following a nationwide mandate to curb individual screen time.\\nB. They were attempting to foster deeper connections by reducing distractions from devices.\\nStart your answer with A or B Please do not use any other format\"\\n'"
      ]
     },
     "execution_count": 23,
     "metadata": {},
     "output_type": "execute_result"
    }
   ],
   "source": [
    "df[\"prompt\"].iloc[0]"
   ]
  },
  {
   "cell_type": "code",
   "execution_count": null,
   "metadata": {},
   "outputs": [],
   "source": []
  }
 ],
 "metadata": {
  "kernelspec": {
   "display_name": "mutual_infomation",
   "language": "python",
   "name": "python3"
  },
  "language_info": {
   "codemirror_mode": {
    "name": "ipython",
    "version": 3
   },
   "file_extension": ".py",
   "mimetype": "text/x-python",
   "name": "python",
   "nbconvert_exporter": "python",
   "pygments_lexer": "ipython3",
   "version": "3.9.19"
  }
 },
 "nbformat": 4,
 "nbformat_minor": 2
}
