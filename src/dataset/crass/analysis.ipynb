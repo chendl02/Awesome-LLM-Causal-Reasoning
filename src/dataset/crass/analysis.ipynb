{
 "cells": [
  {
   "cell_type": "code",
   "execution_count": 4,
   "metadata": {},
   "outputs": [],
   "source": [
    "import pandas as pd\n",
    "df = pd.read_json(\"CRASS_FTM_BIG_Bench_data_set.json\")\n",
    "df[\"input\"]=df[\"example\"].apply(lambda x: x[\"input\"])\n",
    "df[\"target_scores\"] = df[\"example\"].apply(lambda x: x[\"target_scores\"])\n"
   ]
  },
  {
   "cell_type": "code",
   "execution_count": 7,
   "metadata": {},
   "outputs": [
    {
     "data": {
      "text/plain": [
       "{'input': 'A woman opens a treasure chest. What would have happened if the woman had not opened the treasure chest?',\n",
       " 'target_scores': {'The treasure chest would have been open.': 0,\n",
       "  'That is not possible.': 0,\n",
       "  'The treasure chest would have remained closed.': 1,\n",
       "  \"I don't know.\": 0}}"
      ]
     },
     "execution_count": 7,
     "metadata": {},
     "output_type": "execute_result"
    }
   ],
   "source": [
    "df.iloc[0]\n"
   ]
  },
  {
   "cell_type": "code",
   "execution_count": null,
   "metadata": {},
   "outputs": [],
   "source": []
  }
 ],
 "metadata": {
  "kernelspec": {
   "display_name": "mutual_infomation",
   "language": "python",
   "name": "python3"
  },
  "language_info": {
   "codemirror_mode": {
    "name": "ipython",
    "version": 3
   },
   "file_extension": ".py",
   "mimetype": "text/x-python",
   "name": "python",
   "nbconvert_exporter": "python",
   "pygments_lexer": "ipython3",
   "version": "3.9.19"
  }
 },
 "nbformat": 4,
 "nbformat_minor": 2
}
